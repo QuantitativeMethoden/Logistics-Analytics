{
 "cells": [
  {
   "attachments": {
    "Business%20Analytics%20and%20Management%20Science%20-%20Logo.jpeg": {
     "image/jpeg": "[encoded data removed]"
    }
   },
   "cell_type": "markdown",
   "id": "cd058d94",
   "metadata": {},
   "source": [
    "![Business%20Analytics%20and%20Management%20Science%20-%20Logo.jpeg](attachment:Business%20Analytics%20and%20Management%20Science%20-%20Logo.jpeg)"
   ]
  },
  {
   "cell_type": "markdown",
   "id": "f5c7cb87",
   "metadata": {},
   "source": [
    "# Traveling Salesman Problem (TSP) - Vergleich Lösungsverfahren\n",
    "\n",
    "### Universität der Bundeswehr München - Prof. Dr. Claudius Steinhardt - Logistics Analytics\n",
    "Erstellt von Sebastian Knall am 30.03.2022\n",
    "\n",
    "Dieses Notebook stellt verschiedene Lösungsmöglichkeiten für das Traveling Salesman Problem dar und vergleicht deren Effizienz."
   ]
  },
  {
   "cell_type": "code",
   "execution_count": 1,
   "id": "87b34786",
   "metadata": {},
   "outputs": [
    {
     "name": "stdout",
     "output_type": "stream",
     "text": [
      "Anzahl Standorte:4\n"
     ]
    }
   ],
   "source": [
    "n = int(input (\"Anzahl Standorte:\"))"
   ]
  },
  {
   "cell_type": "code",
   "execution_count": 2,
   "id": "92c83a38",
   "metadata": {},
   "outputs": [
    {
     "name": "stdout",
     "output_type": "stream",
     "text": [
      "Populating the interactive namespace from numpy and matplotlib\n"
     ]
    }
   ],
   "source": [
    "#Import aller benötigten Bibliotheken\n",
    "\n",
    "%pylab --no-import-all inline\n",
    "%matplotlib inline\n",
    "from __future__ import division\n",
    "import matplotlib.pyplot as plt\n",
    "import random\n",
    "import time\n",
    "import itertools\n",
    "import urllib\n",
    "import csv\n",
    "import math\n"
   ]
  },
  {
   "cell_type": "markdown",
   "id": "dd673e55",
   "metadata": {},
   "source": [
    "# Lösung 1. Alle Routen (allerouten_tsp)\n",
    "Wir lassen das Programm alle möglichen Routen berechnen und wählen dann den kürzesten Weg."
   ]
  },
  {
   "cell_type": "markdown",
   "id": "6df58edd",
   "metadata": {},
   "source": [
    "### Problem formulieren"
   ]
  },
  {
   "cell_type": "code",
   "execution_count": 3,
   "id": "d8731083",
   "metadata": {},
   "outputs": [],
   "source": [
    "# Erstelle alle möglichen Routen und wähle die Kürzeste\n",
    "def allerouten_tsp(standorte):\n",
    "    return kuerzeste_route(allerouten(standorte))\n",
    "\n",
    "# Wähle die Route mit der kürzesten Strecke\n",
    "def kuerzeste_route(routen):\n",
    "    return min(routen, key=route_laenge)"
   ]
  },
  {
   "cell_type": "markdown",
   "id": "099932ce",
   "metadata": {},
   "source": [
    "### Darstellung Routen"
   ]
  },
  {
   "cell_type": "code",
   "execution_count": 4,
   "id": "774578c3",
   "metadata": {},
   "outputs": [],
   "source": [
    "# Eine Route ist eine Abfolge von Standorten und demnach eine Permutation der Menge aller Standorte\n",
    "allerouten = itertools.permutations"
   ]
  },
  {
   "cell_type": "code",
   "execution_count": 5,
   "id": "80d43ec1",
   "metadata": {},
   "outputs": [],
   "source": [
    "# Festlegen der Routenlänge - Summe der Entfernungen zwischen den Standorte\n",
    "def route_laenge(route):\n",
    "    return sum(entfernung(route[i], route[i-1])\n",
    "               for i in range(len(route)))"
   ]
  },
  {
   "cell_type": "markdown",
   "id": "2abd3419",
   "metadata": {},
   "source": [
    "### Darstellung Standorte\n",
    "Wir stellen die Koordinaten unserer Standorte zur leichteren Berechnung in die Zahleneben der Komplexen Zahlen. Hierbei entsprich der Wert der X Koordinaten der reelen Komponente, der der Y Koordinaten der imaginären Komponenten. Die Entfernung zwischen zwei Standorten ist die absolute Differenz."
   ]
  },
  {
   "cell_type": "code",
   "execution_count": 6,
   "id": "8c0394e0",
   "metadata": {},
   "outputs": [],
   "source": [
    "# Standorte sind Punkte und Punkte sind komplexe Zahlen \n",
    "Punkt = complex\n",
    "Standort  = Punkt\n",
    "\n",
    "# Die X Koordinate ist die reele Komponente\n",
    "def X(point): \n",
    "    return point.real\n",
    "\n",
    "# Die Y Koordinate ist die imaginäre Komponente\n",
    "def Y(point): \n",
    "    return point.imag\n",
    "\n",
    "# Die Entfernung zwischen zwei Standorten ist die absolute Differenz\n",
    "def entfernung(A, B): \n",
    "    return abs(A - B)"
   ]
  },
  {
   "cell_type": "code",
   "execution_count": 7,
   "id": "889a782e",
   "metadata": {},
   "outputs": [],
   "source": [
    "# Festlegen der zufälligen Erstellung von Standorten - Erstelle eine Menge von n zufällig verteilten Standorten \n",
    "def Standorte(n, width=900, height=600, seed=9): # Gleiches n und gleiches Seed = gleiche Verteilung\n",
    "    random.seed(seed * n)\n",
    "    return frozenset(Standort(random.randrange(width), random.randrange(height)) #frozenset: Menge ist nicht veränderbar\n",
    "                     for c in range(n))"
   ]
  },
  {
   "cell_type": "markdown",
   "id": "c7265e36",
   "metadata": {},
   "source": [
    "### Anwendung Algorithmus"
   ]
  },
  {
   "cell_type": "code",
   "execution_count": 8,
   "id": "f82c2f56",
   "metadata": {},
   "outputs": [
    {
     "data": {
      "text/plain": [
       "frozenset({(21+291j), (336+59j), (896+80j), 514j})"
      ]
     },
     "execution_count": 8,
     "metadata": {},
     "output_type": "execute_result"
    }
   ],
   "source": [
    "# Festlegen der Anzahl der Standorte und zufällig Erstellung dieser\n",
    "Standorte(n)"
   ]
  },
  {
   "cell_type": "code",
   "execution_count": 9,
   "id": "ea6295cf",
   "metadata": {},
   "outputs": [],
   "source": [
    "# Wende allerouten_tsp Funktion an um die kürzeste Route zu finden \n",
    "\n",
    "if n < 10: \n",
    "    allerouten_tsp(Standorte(n))\n",
    "else:\n",
    "    print (\"Routen mit mehr als 9 Standorten führen bei dieser Lösungsmethode zu sehr langen Rechenzeiten.\")\n",
    "    print (\"Die Berechnung mit dieser Methode wurde deswegen übersprungen.\")"
   ]
  },
  {
   "cell_type": "code",
   "execution_count": 10,
   "id": "f93492d6",
   "metadata": {},
   "outputs": [],
   "source": [
    "def plot_route(route): \n",
    "    plot_lines(list(route) + [route[0]])\n",
    "    \n",
    "def plot_lines(points, style='bo-'):\n",
    "    plt.plot(list(map(X, points)), list(map(Y, points)), style)\n",
    "    plt.axis('scaled'); plt.axis('off')\n",
    "\n",
    "def plot_standorte(points, *args):\n",
    "    plot_lines(points, 'bo')\n",
    "    for (label, p) in enumerate(points):\n",
    "        style = 'bo-'\n",
    "    for arg in args:\n",
    "        if isinstance(arg, str):\n",
    "            style = arg\n",
    "        else:\n",
    "            Xs = [X(points[i]) for i in arg]\n",
    "            Ys = [Y(points[i]) for i in arg]\n",
    "            plt.plot(Xs, Ys, style)\n",
    "    plt.axis('scaled'); plt.axis('off'); plt.show() \n",
    "    print(str(n) + \" Standorte\")\n",
    "\n",
    "    \n",
    "def plot_labeled_lines(points, *args):\n",
    "    plot_lines(points, 'bo')\n",
    "    for (label, p) in enumerate(points):\n",
    "        plt.text(X(p), Y(p), '  '+str(label))\n",
    "    style = 'bo-'\n",
    "    for arg in args:\n",
    "        if isinstance(arg, str):\n",
    "            style = arg\n",
    "        else:\n",
    "            Xs = [X(points[i]) for i in arg]\n",
    "            Ys = [Y(points[i]) for i in arg]\n",
    "            plt.plot(Xs, Ys, style)\n",
    "    plt.axis('scaled'); plt.axis('off'); plt.show()    "
   ]
  },
  {
   "cell_type": "code",
   "execution_count": 11,
   "id": "fb893428",
   "metadata": {},
   "outputs": [
    {
     "data": {
      "image/png": "[encoded data removed]",
      "text/plain": [
       "<Figure size 432x288 with 1 Axes>"
      ]
     },
     "metadata": {
      "needs_background": "light"
     },
     "output_type": "display_data"
    },
    {
     "name": "stdout",
     "output_type": "stream",
     "text": [
      "4 Standorte\n"
     ]
    }
   ],
   "source": [
    "standorte = list(Standorte(n))\n",
    "plot_standorte(standorte)"
   ]
  },
  {
   "cell_type": "code",
   "execution_count": 12,
   "id": "fd04f9f0",
   "metadata": {},
   "outputs": [],
   "source": [
    "# Darstellung der Länge der kürzesten Route\n",
    "if n < 10: \n",
    "    route_laenge(allerouten_tsp(Standorte(n)))\n",
    "else:\n",
    "    print (\"Routen mit mehr als 9 Standorten führen bei dieser Lösungsmethode zu sehr langen Rechenzeiten.\")\n",
    "    print (\"Die Berechnung mit dieser Methode wurde deswegen übersprungen.\")"
   ]
  },
  {
   "cell_type": "markdown",
   "id": "a5ce7d67",
   "metadata": {},
   "source": [
    "### Grafische Darstellung"
   ]
  },
  {
   "cell_type": "code",
   "execution_count": 13,
   "id": "82859002",
   "metadata": {},
   "outputs": [],
   "source": [
    "# Wende TSP Algorithmus an und stelle das Ergebnis dar.\n",
    "    \n",
    "def plot_tsp(algorithmus, standorte):\n",
    "    # Berechne die Lösung und die Dauer der Lösung\n",
    "    t0 = time.time()\n",
    "    route = algorithmus(standorte)\n",
    "    t1 = time.time()\n",
    "    assert richtige_route(route, standorte)\n",
    "    plot_route(route); plt.show()\n",
    "    print(\"{} Standorte mit einer Routenlänge von {:.1f} in {:.3f} Sekunden für {} berechnet\"\n",
    "          .format(len(route), route_laenge(route), t1 - t0, algorithmus.__name__))\n",
    "    \n",
    "# Gibt es eine Lösung für das Problem\n",
    "def richtige_route(route, standorte):\n",
    "    return set(route) == set(standorte) and len(route) == len(standorte)\n"
   ]
  },
  {
   "cell_type": "code",
   "execution_count": 14,
   "id": "e6a9c1a2",
   "metadata": {},
   "outputs": [
    {
     "data": {
      "image/png": "[encoded data removed]",
      "text/plain": [
       "<Figure size 432x288 with 1 Axes>"
      ]
     },
     "metadata": {
      "needs_background": "light"
     },
     "output_type": "display_data"
    },
    {
     "name": "stdout",
     "output_type": "stream",
     "text": [
      "4 Standorte mit einer Routenlänge von 2171.2 in 0.000 Sekunden für allerouten_tsp berechnet\n",
      "Komplexität der Lösung O(n!):24\n"
     ]
    }
   ],
   "source": [
    "if n < 10: \n",
    "    plot_tsp(allerouten_tsp, Standorte(n))\n",
    "    print (\"Komplexität der Lösung O(n!):\" + str(math.factorial(n)))\n",
    "else:\n",
    "    print (\"Routen mit mehr als 9 Standorten führen bei dieser Lösungsmethode zu sehr langen Rechenzeiten.\")\n",
    "    print (\"Die Berechnung mit dieser Methode wurde deswegen übersprungen.\")"
   ]
  },
  {
   "cell_type": "markdown",
   "id": "c60156d6",
   "metadata": {},
   "source": [
    "# Lösung 2. Alle nicht redundanten Routen (redundant allerouten_tsp)\n",
    "Wir lassen das Programm alle möglichen Routen berechnen, schließen alle redundanten Routen aus und wählen dann den kürzesten Weg."
   ]
  },
  {
   "cell_type": "code",
   "execution_count": 15,
   "id": "0204883c",
   "metadata": {},
   "outputs": [],
   "source": [
    "# Erstelle Sammlung aller möglichen Routen, dabei beginnt jede am gleichen Standort\n",
    "\n",
    "def allerouten(standorte):\n",
    "    start = erster(standorte)\n",
    "    return [[start] + Route(rest)\n",
    "            for rest in itertools.permutations(standorte - {start})]\n",
    "\n",
    "# Iterier über Sammlung und gib erstes Element wieder\n",
    "def erster(sammlung):\n",
    "    return next(iter(sammlung))\n",
    "\n",
    "# Routen sind Listen von Standorten\n",
    "Route = list"
   ]
  },
  {
   "cell_type": "code",
   "execution_count": 16,
   "id": "d74ba784",
   "metadata": {},
   "outputs": [
    {
     "data": {
      "image/png": "[encoded data removed]",
      "text/plain": [
       "<Figure size 432x288 with 1 Axes>"
      ]
     },
     "metadata": {
      "needs_background": "light"
     },
     "output_type": "display_data"
    },
    {
     "name": "stdout",
     "output_type": "stream",
     "text": [
      "4 Standorte mit einer Routenlänge von 2171.2 in 0.000 Sekunden für allerouten_tsp berechnet\n",
      "Komplexität der Lösung O(n!):24\n"
     ]
    }
   ],
   "source": [
    "if n < 10: \n",
    "    plot_tsp(allerouten_tsp, Standorte(n))\n",
    "    print (\"Komplexität der Lösung O(n!):\" + str(math.factorial(n)))\n",
    "else:\n",
    "    print (\"Routen mit mehr als 9 Standorten führen bei dieser Lösungsmethode zu sehr langen Rechenzeiten.\")\n",
    "    print (\"Die Berechnung mit dieser Methode wurde deswegen übersprungen.\")"
   ]
  },
  {
   "cell_type": "markdown",
   "id": "57b40864",
   "metadata": {},
   "source": [
    "#### Warnung! Bei mehr als 10 Standorten kann es je nach Rechnerleistung sehr lange dauern!"
   ]
  },
  {
   "cell_type": "markdown",
   "id": "348850bc",
   "metadata": {},
   "source": [
    "# Lösung 3. Nächster Nachbar Algorithmus (nn_tsp)\n",
    "Wir starten an einem beliebigen Standort und suchen als nächstes Ziel immer den nächsten, noch nicht besuchten Standort."
   ]
  },
  {
   "cell_type": "code",
   "execution_count": 17,
   "id": "32309c1d",
   "metadata": {},
   "outputs": [],
   "source": [
    "# Starte die Route am ersten Standort. Nach jedem Standort besuche den nächsten, unbesuchten Standort U\n",
    "def nn_tsp(standorte):\n",
    "    start = erster(standorte)\n",
    "    tour = [start]\n",
    "    unbesucht = set(standorte - {start})\n",
    "    while unbesucht:\n",
    "        U = naechster_nachbar(tour[-1], unbesucht)\n",
    "        tour.append(U)\n",
    "        unbesucht.remove(U)\n",
    "        \n",
    "    return tour\n",
    "\n",
    "# Finde den nächsten Nachbar von Standort A\n",
    "def naechster_nachbar(A, standorte):\n",
    "    return min(standorte, key=lambda u: entfernung(u, A))"
   ]
  },
  {
   "cell_type": "code",
   "execution_count": 18,
   "id": "c6175d47",
   "metadata": {},
   "outputs": [
    {
     "data": {
      "image/png": "[encoded data removed]",
      "text/plain": [
       "<Figure size 432x288 with 1 Axes>"
      ]
     },
     "metadata": {
      "needs_background": "light"
     },
     "output_type": "display_data"
    },
    {
     "name": "stdout",
     "output_type": "stream",
     "text": [
      "4 Standorte mit einer Routenlänge von 2171.2 in 0.000 Sekunden für nn_tsp berechnet\n",
      "Komplexität der Lösung O(n^2):16\n"
     ]
    }
   ],
   "source": [
    "# Darstellung Lösung\n",
    "plot_tsp(nn_tsp, Standorte(n))\n",
    "plt\n",
    "print (\"Komplexität der Lösung O(n^2):\" + str(n**2))"
   ]
  },
  {
   "cell_type": "markdown",
   "id": "902fc68c",
   "metadata": {},
   "source": [
    "# Lösung 4. Wiederholter Nächster Nachbar Algorithmus (wnn_tsp)\n",
    "Wir starten an einem beliebigen Standort und suchen als nächstes Ziel immer den nächsten, noch nicht besuchten Standort. Dies wiederholen wir für alle Standorte."
   ]
  },
  {
   "cell_type": "code",
   "execution_count": 19,
   "id": "2bc09d3f",
   "metadata": {},
   "outputs": [],
   "source": [
    "# Wiederhole den nn_tsp algorithmus für jeden Standort und gib die kürzeste Route wieder\n",
    "def wnn_tsp(standorte):\n",
    "    return kuerzeste_route(nn_tsp(standorte, start) \n",
    "                         for start in standorte)\n",
    "\n",
    "# Starte die Route am ersten Standort. Nach jedem Standort besuche den nächsten, unbesuchten Standort U\n",
    "def nn_tsp(standorte, start=None):\n",
    "    if start is None: start = erster(standorte)\n",
    "    tour = [start]\n",
    "    unbesucht = set(standorte - {start})\n",
    "    while unbesucht:\n",
    "        U = naechster_nachbar(tour[-1], unbesucht)\n",
    "        tour.append(U)\n",
    "        unbesucht.remove(U)\n",
    "    return tour"
   ]
  },
  {
   "cell_type": "code",
   "execution_count": 20,
   "id": "d72629af",
   "metadata": {},
   "outputs": [
    {
     "data": {
      "image/png": "[encoded data removed]",
      "text/plain": [
       "<Figure size 432x288 with 1 Axes>"
      ]
     },
     "metadata": {
      "needs_background": "light"
     },
     "output_type": "display_data"
    },
    {
     "name": "stdout",
     "output_type": "stream",
     "text": [
      "4 Standorte mit einer Routenlänge von 2171.2 in 0.000 Sekunden für wnn_tsp berechnet\n"
     ]
    }
   ],
   "source": [
    "# Darstellung Lösung\n",
    "plot_tsp(wnn_tsp, Standorte(n))"
   ]
  },
  {
   "cell_type": "markdown",
   "id": "f9fad586",
   "metadata": {},
   "source": [
    "# Lösung 5. Ungekehrter Nächter Nachbar (unn_tsp)\n",
    "Wir betrachten nun einzelne Routenteile und kehren diese bei Bedarf um."
   ]
  },
  {
   "cell_type": "code",
   "execution_count": 21,
   "id": "d896d619",
   "metadata": {},
   "outputs": [],
   "source": [
    "# Betrachte Route[i:j], wenn Umkehr zu kürzerem Weg führt, kehre um\n",
    "def umkehr_segment_wenn_besser(route, i, j):\n",
    "    # Bei Route [...A-B...C-D...], versuche B...C umzukehren um [...A-C...B-D...] zu erhalten\n",
    "    A, B, C, D = route[i-1], route[i], route[j-1], route[j % len(route)]\n",
    "    # Sind die ursprünglichen Ecken (AB + CD) länger als die neuen (AC + BD)? Wenn ja, kehre diese um\n",
    "    if entfernung(A, B) + entfernung(C, D) > entfernung(A, C) + entfernung(B, D):\n",
    "        route[i:j] = reversed(route[i:j])\n",
    "\n",
    "# Kehre Segmente der Route um, damit ein kürzerer Weg gefunden wird.\n",
    "def umkehr_route(route):\n",
    "    original_laenge = route_laenge(route)\n",
    "    for (start, ende) in alle_segmente(len(route)):\n",
    "        umkehr_segment_wenn_besser(route, start, ende)\n",
    "    # Falls Verbesserung gefunden wurde versuche es erneut\n",
    "    if route_laenge(route) < original_laenge:\n",
    "        return umkehr_route(route)\n",
    "    return route\n",
    "\n",
    "def alle_segmente(N):\n",
    "    return [(start, start + laenge)\n",
    "            for laenge in range(N, 2-1, -1)\n",
    "            for start in range(N - laenge + 1)]\n",
    "\n",
    "# Führe nn_tsp durch und kehre wenn nötig Segmente um\n",
    "def unn_tsp(standorte):\n",
    "    return umkehr_route(nn_tsp(standorte))"
   ]
  },
  {
   "cell_type": "code",
   "execution_count": 22,
   "id": "a589fb31",
   "metadata": {},
   "outputs": [
    {
     "data": {
      "image/png": "[encoded data removed]",
      "text/plain": [
       "<Figure size 432x288 with 1 Axes>"
      ]
     },
     "metadata": {
      "needs_background": "light"
     },
     "output_type": "display_data"
    },
    {
     "name": "stdout",
     "output_type": "stream",
     "text": [
      "4 Standorte mit einer Routenlänge von 2171.2 in 0.000 Sekunden für unn_tsp berechnet\n"
     ]
    }
   ],
   "source": [
    "plot_tsp(unn_tsp, Standorte(n))"
   ]
  },
  {
   "cell_type": "markdown",
   "id": "cefef615",
   "metadata": {},
   "source": [
    "# Lösung 6. Kruskal Algorithmus\n"
   ]
  },
  {
   "cell_type": "code",
   "execution_count": 23,
   "id": "5b14f44a",
   "metadata": {},
   "outputs": [],
   "source": [
    "# Definiere ein Dictionary mit der Form {Stamm:[Ableger]} in dem Stamm und Ableger Knoten sind und plotte selbigen\n",
    "def plot_graph(graph):\n",
    "    knoten = {v for stamm in graph for v in graph[stamm]} | set(graph)\n",
    "    kanten = {(stamm, ableger) for stamm in graph for ableger in graph[stamm]}\n",
    "    for kante in kanten:\n",
    "        plot_lines(kante, 'ro-')\n",
    "    gesamt_laenge = sum(entfernung(p, c) for (p, c) in kanten)\n",
    "    print('{} Knoten Graph mit einer Gesanmtlänge von: {:.1f}'.format(len(knoten), gesamt_laenge))"
   ]
  },
  {
   "cell_type": "code",
   "execution_count": 24,
   "id": "dcdf696b",
   "metadata": {},
   "outputs": [],
   "source": [
    "# Mit einer vorgegebenen Menge an Knoten erzeuge einen Baum\n",
    "# Definiere ein Dictionary mit der Form {Stamm:[Ableger]} in dem Stamm und Ableger Knoten sind und der Ursprung der erste Knoten\n",
    "def ksk(knoten):\n",
    "    baum  = {erster(knoten): []} # Der erst Standort ist der Ursprung\n",
    "    kanten = kuerzeste_kante_zuerst(knoten)\n",
    "    while len(baum) < len(knoten):\n",
    "        (A, B) = kuerzeste_nutzbare_kante(kanten, baum)\n",
    "        baum[A].append(B)\n",
    "        baum[B] = []\n",
    "    return baum"
   ]
  },
  {
   "cell_type": "code",
   "execution_count": 25,
   "id": "c33aa7f8",
   "metadata": {},
   "outputs": [],
   "source": [
    "# Finde die kürzeste Kante in der A schon in Baum ist und B nicht.\n",
    "def kuerzeste_nutzbare_kante(kanten, baum):\n",
    "    (A, B) = erster((A, B) for (A, B) in kanten if (A in baum) ^ (B in baum)) # ^ = \"xor\" \n",
    "    return (A, B) if (A in baum) else (B, A)"
   ]
  },
  {
   "cell_type": "code",
   "execution_count": 26,
   "id": "9e40a027",
   "metadata": {},
   "outputs": [],
   "source": [
    "# Finde alle Kanten zwischen zwei Standorten und sortiere sie der Länge nach\n",
    "def kuerzeste_kante_zuerst(standorte):\n",
    "    kanten = [(A, B) for A in standorte for B in standorte \n",
    "                    if id(A) < id(B)]\n",
    "    return sorted(kanten, key=lambda kante: entfernung(*kante))"
   ]
  },
  {
   "cell_type": "code",
   "execution_count": 27,
   "id": "17c62945",
   "metadata": {},
   "outputs": [
    {
     "name": "stdout",
     "output_type": "stream",
     "text": [
      "4 Knoten Graph mit einer Gesanmtlänge von: 1175.6\n"
     ]
    },
    {
     "data": {
      "image/png": "[encoded data removed]",
      "text/plain": [
       "<Figure size 432x288 with 1 Axes>"
      ]
     },
     "metadata": {
      "needs_background": "light"
     },
     "output_type": "display_data"
    }
   ],
   "source": [
    "plot_graph(ksk(Standorte(n)))"
   ]
  },
  {
   "cell_type": "code",
   "execution_count": 28,
   "id": "174fe31e",
   "metadata": {},
   "outputs": [],
   "source": [
    "# Erzeuge einen Baum und gehe in in aufsteigender Reihenfolge ab, ignoriere dopptelte Wege\n",
    "def ksk_tsp(standorte):\n",
    "    return aufsteigen(baum=ksk(standorte), start=erster(standorte))\n",
    "\n",
    "def aufsteigen(baum, start):\n",
    "    ergebnis = [start]\n",
    "    for ableger in baum.get(start, ()):\n",
    "        ergebnis.extend(aufsteigen(baum, ableger))\n",
    "    return ergebnis"
   ]
  },
  {
   "cell_type": "code",
   "execution_count": 29,
   "id": "fe7e14b7",
   "metadata": {},
   "outputs": [
    {
     "data": {
      "image/png": "[encoded data removed]",
      "text/plain": [
       "<Figure size 432x288 with 1 Axes>"
      ]
     },
     "metadata": {
      "needs_background": "light"
     },
     "output_type": "display_data"
    },
    {
     "name": "stdout",
     "output_type": "stream",
     "text": [
      "4 Standorte mit einer Routenlänge von 2171.2 in 0.000 Sekunden für ksk_tsp berechnet\n",
      "Komplexität der Lösung O(n^2):16\n"
     ]
    }
   ],
   "source": [
    "plot_tsp(ksk_tsp, Standorte(n))\n",
    "print (\"Komplexität der Lösung O(n^2):\" + str(n**2))"
   ]
  },
  {
   "cell_type": "code",
   "execution_count": 30,
   "id": "6d8b70d0",
   "metadata": {},
   "outputs": [],
   "source": [
    "# Kehre Route um\n",
    "def umkehr_ksk_tsp(standorte): return umkehr_route(ksk_tsp(standorte))"
   ]
  },
  {
   "cell_type": "code",
   "execution_count": 31,
   "id": "3d39f006",
   "metadata": {},
   "outputs": [
    {
     "data": {
      "image/png": "[encoded data removed]",
      "text/plain": [
       "<Figure size 432x288 with 1 Axes>"
      ]
     },
     "metadata": {
      "needs_background": "light"
     },
     "output_type": "display_data"
    },
    {
     "name": "stdout",
     "output_type": "stream",
     "text": [
      "4 Standorte mit einer Routenlänge von 2171.2 in 0.000 Sekunden für umkehr_ksk_tsp berechnet\n"
     ]
    }
   ],
   "source": [
    "plot_tsp(umkehr_ksk_tsp, Standorte(n))"
   ]
  },
  {
   "cell_type": "markdown",
   "id": "2dfc117c",
   "metadata": {},
   "source": [
    "# Lösung 7. Cheapest Insertion Algorithmus\n",
    "Finden die kürzesten Strecken zwischen zwei Standorte und binde sie in die Tour ein"
   ]
  },
  {
   "cell_type": "code",
   "execution_count": 32,
   "id": "ec32c7f6",
   "metadata": {},
   "outputs": [],
   "source": [
    "def ci_tsp(standorte):\n",
    "    kante = kuerzeste_kante_zuerst(standorte)\n",
    "    endpunkte = {s: [s] for s in standorte}\n",
    "    for (A, B) in kante:\n",
    "        if A in endpunkte and B in endpunkte and endpunkte[A] != endpunkte[B]:\n",
    "            neues_segment = verbinde_endpunkte(endpunkte, A, B)\n",
    "            if len(neues_segment) == len(standorte):\n",
    "                return neues_segment"
   ]
  },
  {
   "cell_type": "code",
   "execution_count": 33,
   "id": "a0da61f9",
   "metadata": {},
   "outputs": [],
   "source": [
    "def verbinde_endpunkte(endpunkte, A, B):\n",
    "    Asegment, Bsegment = endpunkte[A], endpunkte[B]\n",
    "    if Asegment[-1] is not A: Asegment.reverse()\n",
    "    if Bsegment[0] is not B: Bsegment.reverse()\n",
    "    Asegment.extend(Bsegment)\n",
    "    del endpunkte[A], endpunkte[B]\n",
    "    endpunkte[Asegment[0]] = endpunkte[Asegment[-1]] = Asegment\n",
    "    return Asegment"
   ]
  },
  {
   "cell_type": "code",
   "execution_count": 34,
   "id": "442d6515",
   "metadata": {
    "scrolled": true
   },
   "outputs": [
    {
     "data": {
      "image/png": "[encoded data removed]",
      "text/plain": [
       "<Figure size 432x288 with 1 Axes>"
      ]
     },
     "metadata": {
      "needs_background": "light"
     },
     "output_type": "display_data"
    },
    {
     "name": "stdout",
     "output_type": "stream",
     "text": [
      "4 Standorte mit einer Routenlänge von 2171.2 in 0.000 Sekunden für ci_tsp berechnet\n",
      "Komplexität der Lösung O(n^2 x log2(n))):32.0\n"
     ]
    }
   ],
   "source": [
    "plot_tsp(ci_tsp, Standorte(n))\n",
    "print (\"Komplexität der Lösung O(n^2 x log2(n))):\" + str((n**2) * math.log2(n)))"
   ]
  },
  {
   "cell_type": "markdown",
   "id": "86dd8d6c",
   "metadata": {},
   "source": [
    "# Lösung 8. Held-Karp Algorithmus\n",
    "Betrachte Alle Touren Algorithmus. Ignoriere sämtlichen Routen die von Beginn an zu lang sind um Teil der optimalen Lösung zu sein."
   ]
  },
  {
   "cell_type": "code",
   "execution_count": 35,
   "id": "ce8996a3",
   "metadata": {},
   "outputs": [],
   "source": [
    "# Für jeden Endstandort C finde die kürzesten Segmente vom Startpunkt A zu C. \n",
    "#Von all diesen Segmente wähle jene, welche die kürzeste Tour ergeben\n",
    "def hk_tsp(standorte):\n",
    "    A = erster(standorte)\n",
    "    segmente = [kuerzestes_segment(A, standorte - {A, C}, C)\n",
    "                for C in standorte if C is not A]\n",
    "    return kuerzeste_route(segmente)"
   ]
  },
  {
   "cell_type": "code",
   "execution_count": 36,
   "id": "6f502260",
   "metadata": {},
   "outputs": [],
   "source": [
    "# Das kürzeste bei A beginnende Segment, welchges durch alle Bs geht und bei C endet.\n",
    "def kuerzestes_segment(A, Bs, C):\n",
    "    if not Bs:\n",
    "        return [A, C]\n",
    "    else:\n",
    "        segmente = [kuerzestes_segment(A, Bs - {B}, B) + [C] \n",
    "                    for B in Bs]\n",
    "        return min(segmente, key=segment_laenge)\n",
    "            \n",
    "def segment_laenge(segment):\n",
    "    return sum(entfernung(segment[i], segment[i-1]) \n",
    "               for i in range(1, len(segment)))"
   ]
  },
  {
   "cell_type": "code",
   "execution_count": 37,
   "id": "02b4c00d",
   "metadata": {},
   "outputs": [
    {
     "data": {
      "image/png": "[encoded data removed]",
      "text/plain": [
       "<Figure size 432x288 with 1 Axes>"
      ]
     },
     "metadata": {
      "needs_background": "light"
     },
     "output_type": "display_data"
    },
    {
     "name": "stdout",
     "output_type": "stream",
     "text": [
      "4 Standorte mit einer Routenlänge von 2171.2 in 0.000 Sekunden für hk_tsp berechnet\n",
      "Komplexität der Lösung O(n^2 x 2^n)):256\n"
     ]
    }
   ],
   "source": [
    "if n < 10: \n",
    "    plot_tsp(hk_tsp, Standorte(n))\n",
    "    print (\"Komplexität der Lösung O(n^2 x 2^n)):\" + str((n**2) * (2**n)))"
   ]
  },
  {
   "cell_type": "markdown",
   "id": "2435d648",
   "metadata": {},
   "source": [
    "# Zwischenergebnis: Verlgeich der Algorithmen\n",
    "Wir vergleiche die bekannten Lösungsverfahren in Geschhwindigkeit und Genauigkeit"
   ]
  },
  {
   "cell_type": "code",
   "execution_count": 38,
   "id": "fdf32374",
   "metadata": {},
   "outputs": [
    {
     "data": {
      "image/png": "[encoded data removed]",
      "text/plain": [
       "<Figure size 432x288 with 1 Axes>"
      ]
     },
     "metadata": {
      "needs_background": "light"
     },
     "output_type": "display_data"
    },
    {
     "name": "stdout",
     "output_type": "stream",
     "text": [
      "4 Standorte\n",
      "\n",
      "\n",
      "\n",
      "\n",
      "Nächster Nachbar\n"
     ]
    },
    {
     "data": {
      "image/png": "[encoded data removed]",
      "text/plain": [
       "<Figure size 432x288 with 1 Axes>"
      ]
     },
     "metadata": {
      "needs_background": "light"
     },
     "output_type": "display_data"
    },
    {
     "name": "stdout",
     "output_type": "stream",
     "text": [
      "4 Standorte mit einer Routenlänge von 2171.2 in 0.000 Sekunden für nn_tsp berechnet\n",
      "Komplexität der Lösung O(n^2):16\n"
     ]
    },
    {
     "data": {
      "image/png": "[encoded data removed]",
      "text/plain": [
       "<Figure size 432x288 with 1 Axes>"
      ]
     },
     "metadata": {
      "needs_background": "light"
     },
     "output_type": "display_data"
    },
    {
     "name": "stdout",
     "output_type": "stream",
     "text": [
      "4 Standorte mit einer Routenlänge von 2171.2 in 0.000 Sekunden für wnn_tsp berechnet\n"
     ]
    },
    {
     "data": {
      "image/png": "[encoded data removed]",
      "text/plain": [
       "<Figure size 432x288 with 1 Axes>"
      ]
     },
     "metadata": {
      "needs_background": "light"
     },
     "output_type": "display_data"
    },
    {
     "name": "stdout",
     "output_type": "stream",
     "text": [
      "4 Standorte mit einer Routenlänge von 2171.2 in 0.000 Sekunden für unn_tsp berechnet\n",
      "\n",
      "\n",
      "\n",
      "\n",
      "Cheapest Insertion\n"
     ]
    },
    {
     "data": {
      "image/png": "[encoded data removed]",
      "text/plain": [
       "<Figure size 432x288 with 1 Axes>"
      ]
     },
     "metadata": {
      "needs_background": "light"
     },
     "output_type": "display_data"
    },
    {
     "name": "stdout",
     "output_type": "stream",
     "text": [
      "4 Standorte mit einer Routenlänge von 2171.2 in 0.000 Sekunden für ci_tsp berechnet\n",
      "Komplexität der Lösung O(n^2 x log2(n))):32.0\n",
      "\n",
      "\n",
      "\n",
      "\n",
      "Kruskal\n"
     ]
    },
    {
     "data": {
      "image/png": "[encoded data removed]",
      "text/plain": [
       "<Figure size 432x288 with 1 Axes>"
      ]
     },
     "metadata": {
      "needs_background": "light"
     },
     "output_type": "display_data"
    },
    {
     "name": "stdout",
     "output_type": "stream",
     "text": [
      "4 Standorte mit einer Routenlänge von 2171.2 in 0.000 Sekunden für ksk_tsp berechnet\n",
      "Komplexität der Lösung O(n^2):16\n"
     ]
    },
    {
     "data": {
      "image/png": "[encoded data removed]",
      "text/plain": [
       "<Figure size 432x288 with 1 Axes>"
      ]
     },
     "metadata": {
      "needs_background": "light"
     },
     "output_type": "display_data"
    },
    {
     "name": "stdout",
     "output_type": "stream",
     "text": [
      "4 Standorte mit einer Routenlänge von 2171.2 in 0.000 Sekunden für umkehr_ksk_tsp berechnet\n",
      "\n",
      "\n",
      "\n",
      "\n",
      "Held-Karp\n"
     ]
    },
    {
     "data": {
      "image/png": "[encoded data removed]",
      "text/plain": [
       "<Figure size 432x288 with 1 Axes>"
      ]
     },
     "metadata": {
      "needs_background": "light"
     },
     "output_type": "display_data"
    },
    {
     "name": "stdout",
     "output_type": "stream",
     "text": [
      "4 Standorte mit einer Routenlänge von 2171.2 in 0.000 Sekunden für hk_tsp berechnet\n",
      "Komplexität der Lösung O(n^2 x 2^n)):256\n",
      "\n",
      "\n",
      "\n",
      "\n",
      "Brute Force\n"
     ]
    },
    {
     "data": {
      "image/png": "[encoded data removed]",
      "text/plain": [
       "<Figure size 432x288 with 1 Axes>"
      ]
     },
     "metadata": {
      "needs_background": "light"
     },
     "output_type": "display_data"
    },
    {
     "name": "stdout",
     "output_type": "stream",
     "text": [
      "4 Standorte mit einer Routenlänge von 2171.2 in 0.000 Sekunden für allerouten_tsp berechnet\n",
      "Komplexität der Lösung O(n!):24\n"
     ]
    }
   ],
   "source": [
    "plot_standorte(standorte)\n",
    "print('\\n')\n",
    "print('\\n')\n",
    "print(\"Nächster Nachbar\")\n",
    "plot_tsp(nn_tsp, Standorte(n))\n",
    "print (\"Komplexität der Lösung O(n^2):\" + str(n**2))\n",
    "plot_tsp(wnn_tsp, Standorte(n))\n",
    "plot_tsp(unn_tsp, Standorte(n))\n",
    "print('\\n')\n",
    "print('\\n')\n",
    "print(\"Cheapest Insertion\")\n",
    "plot_tsp(ci_tsp, Standorte(n))\n",
    "print (\"Komplexität der Lösung O(n^2 x log2(n))):\" + str((n**2) * math.log2(n)))\n",
    "print('\\n')\n",
    "print('\\n')\n",
    "print(\"Kruskal\")\n",
    "plot_tsp(ksk_tsp, Standorte(n))\n",
    "print (\"Komplexität der Lösung O(n^2):\" + str(n**2))\n",
    "plot_tsp(umkehr_ksk_tsp, Standorte(n))\n",
    "print('\\n')\n",
    "print('\\n')\n",
    "print(\"Held-Karp\")\n",
    "if n < 10: \n",
    "    plot_tsp(hk_tsp, Standorte(n))\n",
    "    print (\"Komplexität der Lösung O(n^2 x 2^n)):\" + str((n**2) * (2**n)))\n",
    "else:\n",
    "    print (\"Routen mit mehr als 9 Standorten führen bei dieser Lösungsmethode zu sehr langen Rechenzeiten.\")\n",
    "    print (\"Die Berechnung mit dieser Methode wurde deswegen übersprungen.\")\n",
    "print('\\n')\n",
    "print('\\n')\n",
    "print (\"Brute Force\")\n",
    "if n < 10: \n",
    "    plot_tsp(allerouten_tsp, Standorte(n))\n",
    "    print (\"Komplexität der Lösung O(n!):\" + str(math.factorial(n)))\n",
    "else:\n",
    "    print (\"Routen mit mehr als 9 Standorten führen bei dieser Lösungsmethode zu sehr langen Rechenzeiten.\")\n",
    "    print (\"Die Berechnung mit dieser Methode wurde deswegen übersprungen.\")\n"
   ]
  },
  {
   "cell_type": "code",
   "execution_count": null,
   "id": "2a134ed2",
   "metadata": {},
   "outputs": [],
   "source": []
  }
 ],
 "metadata": {
  "kernelspec": {
   "display_name": "Python 3 (ipykernel)",
   "language": "python",
   "name": "python3"
  },
  "language_info": {
   "codemirror_mode": {
    "name": "ipython",
    "version": 3
   },
   "file_extension": ".py",
   "mimetype": "text/x-python",
   "name": "python",
   "nbconvert_exporter": "python",
   "pygments_lexer": "ipython3",
   "version": "3.7.13"
  }
 },
 "nbformat": 4,
 "nbformat_minor": 5
}
