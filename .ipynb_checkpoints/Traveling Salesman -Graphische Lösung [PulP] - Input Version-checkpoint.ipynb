{
 "cells": [
  {
   "attachments": {
    "Business%20Analytics%20and%20Management%20Science%20-%20Logo.jpeg": {
     "image/jpeg": "[encoded data removed]"
    }
   },
   "cell_type": "markdown",
   "id": "b26f82ce",
   "metadata": {},
   "source": [
    "![Business%20Analytics%20and%20Management%20Science%20-%20Logo.jpeg](attachment:Business%20Analytics%20and%20Management%20Science%20-%20Logo.jpeg)"
   ]
  },
  {
   "cell_type": "markdown",
   "id": "c4a0bd02",
   "metadata": {},
   "source": [
    "# Traveling Salesman Problem - Zufällige Instanz - PuLP\n",
    "### Universität der Bundeswehr München - Prof. Dr. Claudius Steinhardt - Logistics Analytics\n",
    "Erstellt von Sebastian Knall am 30.03.2022\n",
    "\n",
    "Dieses Notebook generiert zufällig eine Traveling Salesman Problem (TSP) Instanz und löst diese mit dem Open Source Solver PuLP (https://pypi.org/project/PuLP/)."
   ]
  },
  {
   "cell_type": "code",
   "execution_count": 1,
   "id": "c1477080",
   "metadata": {},
   "outputs": [],
   "source": [
    "# Importieren der Bibliotheken\n",
    "# BITTE ALPHABETISCH SORTIEREN\n",
    "import itertools\n",
    "\n",
    "import numpy as np\n",
    "import pandas as pd\n",
    "from scipy.spatial import distance_matrix\n",
    "import matplotlib\n",
    "import matplotlib.pylab as plt\n",
    "import seaborn as sns\n",
    "import pulp\n",
    "from pulp import *\n",
    "import ipywidgets as widgets\n",
    "\n",
    "import warnings\n",
    "warnings.filterwarnings(\"ignore\")"
   ]
  },
  {
   "cell_type": "markdown",
   "id": "e2c43429",
   "metadata": {},
   "source": [
    "Anzahl Kunden auswählen:"
   ]
  },
  {
   "cell_type": "code",
   "execution_count": 3,
   "id": "1be116e1",
   "metadata": {
    "scrolled": true
   },
   "outputs": [
    {
     "data": {
      "application/vnd.jupyter.widget-view+json": {
       "model_id": "98d99cd6612f4e9d8840f1f399edc868",
       "version_major": 2,
       "version_minor": 0
      },
      "text/plain": [
       "IntSlider(value=7, continuous_update=False, description='Kunden:', max=15)"
      ]
     },
     "metadata": {},
     "output_type": "display_data"
    }
   ],
   "source": [
    "# Benutzereingabe Anzahl Kunden\n",
    "# BITTE JEDEN PARAMETER KNAPP (MAX 5 WÖRTER) KOMMENTIEREN\n",
    "kunden = widgets.IntSlider(\n",
    "    value=7,\n",
    "    min=0,\n",
    "    max=15,\n",
    "    step=1,\n",
    "    description='Kunden:',\n",
    "    disabled=False,\n",
    "    continuous_update=False,\n",
    "    orientation='horizontal',\n",
    "    readout=True,\n",
    "    readout_format='d',\n",
    ")\n",
    "display(kunden)"
   ]
  },
  {
   "cell_type": "code",
   "execution_count": 5,
   "id": "26a0b9cc",
   "metadata": {},
   "outputs": [
    {
     "data": {
      "text/html": [
       "<div>\n",
       "<style scoped>\n",
       "    .dataframe tbody tr th:only-of-type {\n",
       "        vertical-align: middle;\n",
       "    }\n",
       "\n",
       "    .dataframe tbody tr th {\n",
       "        vertical-align: top;\n",
       "    }\n",
       "\n",
       "    .dataframe thead th {\n",
       "        text-align: right;\n",
       "    }\n",
       "</style>\n",
       "<table border=\"1\" class=\"dataframe\">\n",
       "  <thead>\n",
       "    <tr style=\"text-align: right;\">\n",
       "      <th></th>\n",
       "      <th>x</th>\n",
       "      <th>y</th>\n",
       "    </tr>\n",
       "  </thead>\n",
       "  <tbody>\n",
       "    <tr>\n",
       "      <th>0</th>\n",
       "      <td>0</td>\n",
       "      <td>0</td>\n",
       "    </tr>\n",
       "    <tr>\n",
       "      <th>1</th>\n",
       "      <td>81</td>\n",
       "      <td>82</td>\n",
       "    </tr>\n",
       "    <tr>\n",
       "      <th>2</th>\n",
       "      <td>72</td>\n",
       "      <td>44</td>\n",
       "    </tr>\n",
       "    <tr>\n",
       "      <th>3</th>\n",
       "      <td>82</td>\n",
       "      <td>94</td>\n",
       "    </tr>\n",
       "    <tr>\n",
       "      <th>4</th>\n",
       "      <td>7</td>\n",
       "      <td>3</td>\n",
       "    </tr>\n",
       "    <tr>\n",
       "      <th>5</th>\n",
       "      <td>32</td>\n",
       "      <td>25</td>\n",
       "    </tr>\n",
       "    <tr>\n",
       "      <th>6</th>\n",
       "      <td>67</td>\n",
       "      <td>84</td>\n",
       "    </tr>\n",
       "    <tr>\n",
       "      <th>7</th>\n",
       "      <td>84</td>\n",
       "      <td>26</td>\n",
       "    </tr>\n",
       "    <tr>\n",
       "      <th>8</th>\n",
       "      <td>97</td>\n",
       "      <td>26</td>\n",
       "    </tr>\n",
       "    <tr>\n",
       "      <th>9</th>\n",
       "      <td>8</td>\n",
       "      <td>69</td>\n",
       "    </tr>\n",
       "    <tr>\n",
       "      <th>10</th>\n",
       "      <td>92</td>\n",
       "      <td>90</td>\n",
       "    </tr>\n",
       "    <tr>\n",
       "      <th>11</th>\n",
       "      <td>0</td>\n",
       "      <td>1</td>\n",
       "    </tr>\n",
       "    <tr>\n",
       "      <th>12</th>\n",
       "      <td>0</td>\n",
       "      <td>66</td>\n",
       "    </tr>\n",
       "    <tr>\n",
       "      <th>13</th>\n",
       "      <td>56</td>\n",
       "      <td>4</td>\n",
       "    </tr>\n",
       "  </tbody>\n",
       "</table>\n",
       "</div>"
      ],
      "text/plain": [
       "     x   y\n",
       "0    0   0\n",
       "1   81  82\n",
       "2   72  44\n",
       "3   82  94\n",
       "4    7   3\n",
       "5   32  25\n",
       "6   67  84\n",
       "7   84  26\n",
       "8   97  26\n",
       "9    8  69\n",
       "10  92  90\n",
       "11   0   1\n",
       "12   0  66\n",
       "13  56   4"
      ]
     },
     "execution_count": 5,
     "metadata": {},
     "output_type": "execute_result"
    }
   ],
   "source": [
    "# Definieren TSP\n",
    "\n",
    "#Anzahl Kundenstandorte (Kunden + Start)\n",
    "k = kunden.value + 1\n",
    "\n",
    "# Erstellen eines DataFrames mit zufällig generierten Koordinaten\n",
    "df = pd.DataFrame({\n",
    "    'x': np.random.randint(0, 100, k),\n",
    "    'y': np.random.randint(0, 100, k),\n",
    "})\n",
    "\n",
    "# Definieren Ursprung des Koordinatensystems\n",
    "df.iloc[0]['x'] = 0\n",
    "df.iloc[0]['y'] = 0\n",
    "\n",
    "# Ausgabe DataFrame\n",
    "print(df)"
   ]
  },
  {
   "cell_type": "code",
   "execution_count": 4,
   "id": "896af00a",
   "metadata": {},
   "outputs": [
    {
     "data": {
      "image/png": "[encoded data removed]",
      "text/plain": [
       "<Figure size 576x504 with 2 Axes>"
      ]
     },
     "metadata": {
      "needs_background": "light"
     },
     "output_type": "display_data"
    }
   ],
   "source": [
    "# Erstellen Entfernungsmatrix aus Koordinaten\n",
    "entfernungen = pd.DataFrame(distance_matrix(df[['x', 'y']].values, df[['x', 'y']].values), index=df.index, columns=df.index).values\n",
    "\n",
    "# Darstellung Entfernungsmaxtrix als Heatmap\n",
    "fig, ax = plt.subplots(figsize=(8, 7))\n",
    "sns.heatmap(entfernungen, ax=ax, cmap='Oranges', annot=True, fmt='.0f', cbar=True, cbar_kws={\"shrink\": .3}, linewidths=.1)\n",
    "plt.title('distance matrix')\n",
    "plt.show()"
   ]
  },
  {
   "cell_type": "code",
   "execution_count": 5,
   "id": "8fb91533",
   "metadata": {},
   "outputs": [
    {
     "data": {
      "image/png": "[encoded data removed]",
      "text/plain": [
       "<Figure size 360x360 with 1 Axes>"
      ]
     },
     "metadata": {
      "needs_background": "light"
     },
     "output_type": "display_data"
    }
   ],
   "source": [
    "# Graphische Darstellung der TSP Instanz\n",
    "plt.figure(figsize=(5, 5))\n",
    "\n",
    "for i, row in df.iterrows():\n",
    "    if i == 0:\n",
    "        plt.scatter(row['x'], row['y'], c='orange')\n",
    "        plt.text(row['x'] + 1, row['y'] + 1, 'Wohnort')\n",
    "    else:\n",
    "        plt.scatter(row['x'], row['y'], c='blue')\n",
    "        plt.text(row['x'] + 1, row['y'] + 1, f'{i}')\n",
    "        \n",
    "plt.xlim([-10, 110])\n",
    "plt.ylim([-10, 110])\n",
    "plt.title('Standorte')\n",
    "plt.show()"
   ]
  },
  {
   "cell_type": "code",
   "execution_count": 6,
   "id": "a6c86afc",
   "metadata": {},
   "outputs": [],
   "source": [
    "# HIER BITTE ALLES ANGLEICHEN ENTSPRECHEND BEZEICHNUNG/ FORMULIERUNG IN ANDEREM NOTEBOOK\n",
    "# Erstellen eines neuen PulP-Modells und festlegen ob es ein Maximierungs- oder Minimierungsproblem sein soll.\n",
    "prob = LpProblem(\"TSP\", LpMinimize)"
   ]
  },
  {
   "cell_type": "code",
   "execution_count": 7,
   "id": "77d05304",
   "metadata": {},
   "outputs": [],
   "source": [
    "# Erstellen der Variablen\n",
    "## PulP Variablen bestehen aus vier Parametern: Name, Untere Grenze, Obere Grenze und diskret, linear oder binär\n",
    "### Ist kein Wert für ein Parameter angegeben, so nimmt PulP Standartwerte vor.\n",
    "#### Bei binären Variablen ist die untere und obere Grenze dementsprechen 0 und 1 zu setzen.\n",
    "x = LpVariable.dicts('x', ((i, j) for i in range(k) for j in range(k)), lowBound=0, upBound=1, cat='Binary')\n",
    "\n",
    "# Erstellen einer Entscheidungsvariablen um Kurzzyklen zu vermeiden mit der unteren Grenze 1 und der oberen Grenze k\n",
    "u = LpVariable.dicts('u', (i for i in range(k)), lowBound=1, upBound=k, cat='Integer')"
   ]
  },
  {
   "cell_type": "code",
   "execution_count": 8,
   "id": "0de54999",
   "metadata": {},
   "outputs": [],
   "source": [
    "# Festlegen der Zielfunktion\n",
    "prob += lpSum(entfernungen[i][j] * x[i, j] for i in range(k) for j in range(k))"
   ]
  },
  {
   "cell_type": "code",
   "execution_count": 9,
   "id": "c692a565",
   "metadata": {},
   "outputs": [],
   "source": [
    "# Unter der Nebenbedingung 1:\n",
    "for i in range(k):\n",
    "    prob += x[i, i] == 0\n",
    "\n",
    "for i in range(k):\n",
    "    prob += lpSum(x[i, j] for j in range(k)) == 1\n",
    "    prob += lpSum(x[j, i] for j in range(k)) == 1"
   ]
  },
  {
   "cell_type": "code",
   "execution_count": 10,
   "id": "57f4dd4d",
   "metadata": {},
   "outputs": [],
   "source": [
    "# Unter der Nebenbedingung 2: Vermeiden von Kurzzyklen\n",
    "for i in range(k):\n",
    "    for j in range(k):\n",
    "        if i != j and (i != 0 and j != 0):\n",
    "            prob += u[i] - u[j] <= k * (1 - x[i, j]) - 1"
   ]
  },
  {
   "cell_type": "code",
   "execution_count": 11,
   "id": "d735e4ed",
   "metadata": {},
   "outputs": [
    {
     "data": {
      "text/plain": [
       "1"
      ]
     },
     "execution_count": 11,
     "metadata": {},
     "output_type": "execute_result"
    }
   ],
   "source": [
    "# Modell lösen\n",
    "prob.solve()"
   ]
  },
  {
   "cell_type": "code",
   "execution_count": 12,
   "id": "c059897c",
   "metadata": {},
   "outputs": [
    {
     "name": "stdout",
     "output_type": "stream",
     "text": [
      "Status: Optimal\n"
     ]
    }
   ],
   "source": [
    "# Augeben des Status\n",
    "print(\"Status:\", LpStatus[prob.status])"
   ]
  },
  {
   "cell_type": "code",
   "execution_count": 13,
   "id": "6d1a3dc4",
   "metadata": {},
   "outputs": [
    {
     "name": "stdout",
     "output_type": "stream",
     "text": [
      "Mindestentfernung:  280.0378121544569\n"
     ]
    }
   ],
   "source": [
    "# Ausgeben der Knoten und deren Reihenfolge\n",
    "#for v in prob.variables():\n",
    "#    print(v.name, \"=\", v.varValue)\n",
    "        \n",
    "# Ausgeben Mindestentfernung\n",
    "print(\"Mindestentfernung: \", value(prob.objective))"
   ]
  },
  {
   "cell_type": "code",
   "execution_count": 14,
   "id": "33c5e682",
   "metadata": {},
   "outputs": [
    {
     "data": {
      "image/png": "[encoded data removed]",
      "text/plain": [
       "<Figure size 360x360 with 1 Axes>"
      ]
     },
     "metadata": {
      "needs_background": "light"
     },
     "output_type": "display_data"
    }
   ],
   "source": [
    "# Darstellung TSP graphisch\n",
    "\n",
    "plt.figure(figsize=(5, 5))\n",
    "\n",
    "# Problem darstellen\n",
    "for i, row in df.iterrows():\n",
    "    if i == 0:\n",
    "        plt.scatter(row['x'], row['y'], c='orange')\n",
    "        plt.text(row['x'] + 1, row['y'] + 1, 'Wohnort')\n",
    "        \n",
    "    else:\n",
    "        plt.scatter(row['x'], row['y'], c='blue')\n",
    "        plt.text(row['x'] + 1, row['y'] + 1, f'{i}')\n",
    "        \n",
    "plt.xlim([-10, 110])\n",
    "plt.ylim([-10, 110])\n",
    "plt.title('Standorte')\n",
    "\n",
    "# Optimale Route zeichnen\n",
    "routes = [(i, j) for i in range(k) for j in range(k) if pulp.value(x[i, j]) == 1]\n",
    "arrowprops = dict(arrowstyle='->', connectionstyle='arc3', edgecolor='blue')\n",
    "for i, j in routes:\n",
    "    plt.annotate('', xy=[df.iloc[j]['x'], df.iloc[j]['y']], xytext=[df.iloc[i]['x'], df.iloc[i]['y']], arrowprops=arrowprops)\n",
    "\n",
    "# Lösung anzeigen\n",
    "plt.show()"
   ]
  }
 ],
 "metadata": {
  "kernelspec": {
   "display_name": "Python 3 (ipykernel)",
   "language": "python",
   "name": "python3"
  },
  "language_info": {
   "codemirror_mode": {
    "name": "ipython",
    "version": 3
   },
   "file_extension": ".py",
   "mimetype": "text/x-python",
   "name": "python",
   "nbconvert_exporter": "python",
   "pygments_lexer": "ipython3",
   "version": "3.7.13"
  }
 },
 "nbformat": 4,
 "nbformat_minor": 5
}
